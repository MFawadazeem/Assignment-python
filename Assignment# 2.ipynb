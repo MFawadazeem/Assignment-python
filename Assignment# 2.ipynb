{
 "cells": [
  {
   "cell_type": "code",
   "execution_count": 1,
   "metadata": {},
   "outputs": [
    {
     "name": "stdout",
     "output_type": "stream",
     "text": [
      "Intermediate Board Karachi\n",
      "Candidate Name : M Fawad\n",
      "Candidate_roll_no : 1205\n",
      "Candidate Name : M Fawad\n",
      "Candidate Roll No : 1205\n",
      "Enter Your Maths Marks :45\n",
      "Enter Your Physics Marks :50\n",
      "Enter Your Chemistry Marks :70\n",
      "Enter Your Computer Marks :80\n",
      "Enter Your Islamiat Marks :60\n",
      "Obtained Marks : 305\n",
      "Totall Marks : 500\n",
      "Percentage :  61.0 %\n",
      "Grade: B\n"
     ]
    }
   ],
   "source": [
    "#5 inputs from user for different subject’s generate mark sheet\n",
    "print(\"Intermediate Board Karachi\")\n",
    "Candidate_name = input(\"Candidate Name : \")\n",
    "Candidate_roll_no = input(\"Candidate_roll_no : \")\n",
    "print(\"Candidate Name :\", Candidate_name)\n",
    "print(\"Candidate Roll No :\", Candidate_roll_no)\n",
    "Maths = int(input(\"Enter Your Maths Marks :\"))\n",
    "Physics = int(input(\"Enter Your Physics Marks :\"))\n",
    "Chemistry = int(input(\"Enter Your Chemistry Marks :\"))\n",
    "Computer_science =int (input(\"Enter Your Computer Marks :\"))\n",
    "Islamiat = int (input(\"Enter Your Islamiat Marks :\"))\n",
    "Ob_Marks = (Maths+ Physics + Chemistry + Computer_science + Islamiat)\n",
    "Totall_Marks = (Ob_Marks * 100) / 500\n",
    "print(\"Obtained Marks :\", Ob_Marks)\n",
    "print(\"Totall Marks :\", 500)\n",
    "print(\"Percentage : \", Totall_Marks , \"%\")\n",
    "if Totall_Marks > 80 < 90 :\n",
    "    print(\"Grade: A+\")\n",
    "elif Totall_Marks > 70 < 80 :\n",
    "    print(\"Grade: A\")\n",
    "elif Totall_Marks > 60 < 70 :\n",
    "    print(\"Grade: B\")\n",
    "elif Totall_Marks > 50 < 60 :\n",
    "    print(\"Grade: C\")\n",
    "elif Totall_Marks > 40 <50 :\n",
    "    print(\"Grade: D\")\n",
    "else :\n",
    "    print(\"Fail\")"
   ]
  },
  {
   "cell_type": "code",
   "execution_count": 2,
   "metadata": {},
   "outputs": [
    {
     "name": "stdout",
     "output_type": "stream",
     "text": [
      "Enter a Number : 6\n",
      "Provided number is even\n"
     ]
    }
   ],
   "source": [
    "#given number is even or odd?\n",
    "User_input = float (input(\"Enter a Number : \"))\n",
    "if((User_input%2) == 0 ) :\n",
    "    print(\"Provided number is even\")\n",
    "else :\n",
    "    print(\"Provided number is Odd\")"
   ]
  },
  {
   "cell_type": "code",
   "execution_count": 4,
   "metadata": {},
   "outputs": [
    {
     "name": "stdout",
     "output_type": "stream",
     "text": [
      "The Length of List is :  9\n"
     ]
    }
   ],
   "source": [
    "#Write a program which print the length of the list\n",
    "a = [1 ,5 ,6 , 8, 9 , 10 ,12 ,16 ,18]\n",
    "print(\"The Length of List is : \",(len(a)))"
   ]
  },
  {
   "cell_type": "code",
   "execution_count": 6,
   "metadata": {},
   "outputs": [
    {
     "name": "stdout",
     "output_type": "stream",
     "text": [
      "Sum Of All Number is :  51\n"
     ]
    }
   ],
   "source": [
    "#Write a Python program to sum all the numeric items in a list\n",
    "list1 = [1, 2, 3, 5, 6 ,7 ,8 ,9 , 10]\n",
    "totall = sum(list1)\n",
    "print(\"Sum Of All Number is : \", totall)"
   ]
  },
  {
   "cell_type": "code",
   "execution_count": 8,
   "metadata": {},
   "outputs": [
    {
     "name": "stdout",
     "output_type": "stream",
     "text": [
      "Largest Number From a List is : 20\n"
     ]
    }
   ],
   "source": [
    "#Write a Python program to get the largest number from a numeric list\n",
    "list1 = [1,5,6,8,9,10,5,15,20]\n",
    "print(\"Largest Number From a List is :\" ,max(list1))"
   ]
  },
  {
   "cell_type": "code",
   "execution_count": 9,
   "metadata": {},
   "outputs": [
    {
     "name": "stdout",
     "output_type": "stream",
     "text": [
      "Elements of the list that are less than 5 : [1, 1, 2, 3]\n"
     ]
    }
   ],
   "source": [
    "#write a program that prints out all the elements of the list that are less than 5\n",
    "list1 = [1, 1, 2, 3, 5, 8, 13, 21, 34, 55, 89]\n",
    "emptylist = []\n",
    "for number in list1:\n",
    "    if number < 5 :\n",
    "        emptylist.append(number)\n",
    "\n",
    "print(\"Elements of the list that are less than 5 :\",emptylist)"
   ]
  },
  {
   "cell_type": "code",
   "execution_count": null,
   "metadata": {},
   "outputs": [],
   "source": []
  }
 ],
 "metadata": {
  "kernelspec": {
   "display_name": "Python 3",
   "language": "python",
   "name": "python3"
  },
  "language_info": {
   "codemirror_mode": {
    "name": "ipython",
    "version": 3
   },
   "file_extension": ".py",
   "mimetype": "text/x-python",
   "name": "python",
   "nbconvert_exporter": "python",
   "pygments_lexer": "ipython3",
   "version": "3.7.4"
  }
 },
 "nbformat": 4,
 "nbformat_minor": 2
}
