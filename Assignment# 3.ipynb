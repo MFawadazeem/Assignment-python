{
 "cells": [
  {
   "cell_type": "code",
   "execution_count": 1,
   "metadata": {},
   "outputs": [
    {
     "name": "stdout",
     "output_type": "stream",
     "text": [
      "Enter First Value : 5\n",
      "Enter Second value : 6\n",
      "Which operation do you want to perform\n",
      "1. Add\n",
      "2. Subtract\n",
      "3. Multiply\n",
      "4. Divide\n",
      "5. Power\n",
      "1\n",
      "Answer is =  11\n"
     ]
    }
   ],
   "source": [
    "#Make a calculator using Pythonwith addition , subtraction , multiplication , division and power.\n",
    "first_no = int (input(\"Enter First Value : \"))\n",
    "second_no = int (input(\"Enter Second value : \"))\n",
    "Operation = int(input(\"Which operation do you want to perform\\n1. Add\\n2. Subtract\\n3. Multiply\\n4. Divide\\n5. Power\\n\"))\n",
    "Answer = \"Answer is = \"\n",
    "if Operation == 1 :\n",
    "    print(Answer ,first_no+second_no)\n",
    "elif Operation == 2 :\n",
    "    print(Answer, first_no-second_no)\n",
    "elif Operation == 3 :\n",
    "    print(Answer, first_no*second_no)\n",
    "elif Operation == 4 :\n",
    "    print(Answer, first_no/second_no)\n",
    "elif Operation == 5:\n",
    "    print(Answer, first_no ** second_no)\n",
    "else:\n",
    "    print(\"Wrong\")"
   ]
  },
  {
   "cell_type": "code",
   "execution_count": 2,
   "metadata": {},
   "outputs": [
    {
     "name": "stdout",
     "output_type": "stream",
     "text": [
      "50 is a numeric Value in List\n",
      "10 is a numeric Value in List\n",
      "15.5 is a numeric Value in List\n"
     ]
    }
   ],
   "source": [
    "#Write a program to check if there is any numeric value in list using for loop\n",
    "check = [\"Fawad\",\"Azeem\",50,10,True,15.5,\"x\",\"b\"]\n",
    "for x in check:\n",
    "    if type(x) == int:\n",
    "        print(x,\"is a numeric Value in List\")\n",
    "    elif type(x) == float:\n",
    "        print(x,\"is a numeric Value in List\")"
   ]
  },
  {
   "cell_type": "code",
   "execution_count": 4,
   "metadata": {},
   "outputs": [
    {
     "name": "stdout",
     "output_type": "stream",
     "text": [
      "Enter Key : fawad\n",
      "Enter Value : 5\n",
      "{'5', 'fawad'}\n"
     ]
    }
   ],
   "source": [
    "#Write a Python script to add a key to a dictionary\n",
    "dic = {}\n",
    "keyinput = input(\"Enter Key : \")\n",
    "valueinput = input(\"Enter Value : \")\n",
    "dic = {keyinput,valueinput}\n",
    "\n",
    "print(dic)"
   ]
  },
  {
   "cell_type": "code",
   "execution_count": 5,
   "metadata": {},
   "outputs": [
    {
     "name": "stdout",
     "output_type": "stream",
     "text": [
      "Sum of all numeric items in a dictionary is :  111\n"
     ]
    }
   ],
   "source": [
    "#Write a Python program to sum all the numeric items in a dictionary\n",
    "dic = {\"num1\" : 30,\"num2\" : 50,\"string\":\"Name\",\"char\" :\"a\",\"num3\" : 15,\"num4\":16,}\n",
    "sum = 0\n",
    "\n",
    "for i in dic.values():\n",
    "    if type(i) == int:\n",
    "        sum +=i\n",
    "\n",
    "print(\"Sum of all numeric items in a dictionary is : \" , sum)"
   ]
  },
  {
   "cell_type": "code",
   "execution_count": 7,
   "metadata": {},
   "outputs": [
    {
     "name": "stdout",
     "output_type": "stream",
     "text": [
      "Repeted item in a list is :  [1, 2, 5, 6, 9]\n"
     ]
    }
   ],
   "source": [
    "#Write a program to identify duplicate values from list\n",
    "arr = [1,2,3,2,1,5,6,5,5,5,2,6,7,8,9,9,10,5]\n",
    "list_range = len(arr)\n",
    "repeated = []\n",
    "for i in range (list_range):\n",
    "    a = i + 1\n",
    "    for b in range(a, list_range):\n",
    "        if arr[i] == arr[b] and arr[i] not in repeated:\n",
    "            repeated.append(arr[i])\n",
    "print(\"Repeted item in a list is : \" , repeated)"
   ]
  },
  {
   "cell_type": "code",
   "execution_count": 8,
   "metadata": {},
   "outputs": [
    {
     "name": "stdout",
     "output_type": "stream",
     "text": [
      "Enter Key Name Check if exist or not : num1\n",
      "Given Key exist : \n"
     ]
    }
   ],
   "source": [
    "#Write a Python script to check if a given key already exists in a dictionary\n",
    "dic = {\"num1\" : 12,\"num2\" : 5,\"string\":\"Fawad\",\"char\":\"a\",\"num3\" : 6,\"num4\":50}\n",
    "check_key = input(\"Enter Key Name Check if exist or not : \")\n",
    "flag = False\n",
    "for i in dic.keys():\n",
    "    if i == check_key:\n",
    "        flag = True\n",
    "        break\n",
    "\n",
    "if flag:\n",
    "    print(\"Given Key exist : \")\n",
    "else:\n",
    "    print(\"Given Key dose not exist \")"
   ]
  },
  {
   "cell_type": "code",
   "execution_count": null,
   "metadata": {},
   "outputs": [],
   "source": []
  }
 ],
 "metadata": {
  "kernelspec": {
   "display_name": "Python 3",
   "language": "python",
   "name": "python3"
  },
  "language_info": {
   "codemirror_mode": {
    "name": "ipython",
    "version": 3
   },
   "file_extension": ".py",
   "mimetype": "text/x-python",
   "name": "python",
   "nbconvert_exporter": "python",
   "pygments_lexer": "ipython3",
   "version": "3.7.4"
  }
 },
 "nbformat": 4,
 "nbformat_minor": 2
}
